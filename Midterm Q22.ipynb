{
 "cells": [
  {
   "cell_type": "code",
   "execution_count": 1,
   "id": "87cbc96f",
   "metadata": {},
   "outputs": [
    {
     "name": "stdout",
     "output_type": "stream",
     "text": [
      "1\n"
     ]
    }
   ],
   "source": [
    "class PriorityQueue:\n",
    "    def __init__(self):\n",
    "        self.priorityqueue=[]\n",
    "    def insert(self,number):\n",
    "        self.priorityqueue.append(number)\n",
    "    def min(self):\n",
    "        print(min(self.priorityqueue))\n",
    "    def removeMin(self,dummy):\n",
    "        data= min(self.priorityqueue)\n",
    "        self.priorityqueue.remove(data)\n",
    "    def isEmpty(self):\n",
    "        if len(self.priorityqueue)==0:\n",
    "            return True\n",
    "        else:\n",
    "            return False\n",
    "    def __len__(self):\n",
    "        return len(self.priorityqueue)\n",
    "    \n",
    "\n",
    "pq = PriorityQueue() \n",
    "pq.insert(3) \n",
    "pq.insert(1) \n",
    "pq.insert(5) \n",
    "pq.insert(2)\n",
    "pq.min()  "
   ]
  },
  {
   "cell_type": "code",
   "execution_count": 2,
   "id": "68c6a335",
   "metadata": {},
   "outputs": [
    {
     "name": "stdout",
     "output_type": "stream",
     "text": [
      "2\n"
     ]
    }
   ],
   "source": [
    "pq.removeMin(1) \n",
    "pq.min()"
   ]
  },
  {
   "cell_type": "code",
   "execution_count": 3,
   "id": "6fcbe6cb",
   "metadata": {},
   "outputs": [
    {
     "data": {
      "text/plain": [
       "3"
      ]
     },
     "execution_count": 3,
     "metadata": {},
     "output_type": "execute_result"
    }
   ],
   "source": [
    " len(pq)  "
   ]
  },
  {
   "cell_type": "code",
   "execution_count": 4,
   "id": "ff9875d5",
   "metadata": {},
   "outputs": [
    {
     "data": {
      "text/plain": [
       "False"
      ]
     },
     "execution_count": 4,
     "metadata": {},
     "output_type": "execute_result"
    }
   ],
   "source": [
    "pq.isEmpty()  "
   ]
  },
  {
   "cell_type": "code",
   "execution_count": null,
   "id": "1835b075",
   "metadata": {},
   "outputs": [],
   "source": []
  }
 ],
 "metadata": {
  "kernelspec": {
   "display_name": "Python 3 (ipykernel)",
   "language": "python",
   "name": "python3"
  },
  "language_info": {
   "codemirror_mode": {
    "name": "ipython",
    "version": 3
   },
   "file_extension": ".py",
   "mimetype": "text/x-python",
   "name": "python",
   "nbconvert_exporter": "python",
   "pygments_lexer": "ipython3",
   "version": "3.9.12"
  }
 },
 "nbformat": 4,
 "nbformat_minor": 5
}
