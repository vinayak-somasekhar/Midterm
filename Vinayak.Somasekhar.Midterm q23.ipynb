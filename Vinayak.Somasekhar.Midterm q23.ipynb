{
 "cells": [
  {
   "cell_type": "code",
   "execution_count": 14,
   "id": "df5b6bfe",
   "metadata": {},
   "outputs": [],
   "source": [
    "counter= 0\n",
    "len_count=0\n",
    "\n",
    "def anagrams(file,word):\n",
    "    content= open(file)\n",
    "    data= content.readlines()\n",
    "    global counter\n",
    "    temp_data=[]\n",
    "    for i in data:\n",
    "        j= i.strip(\"\\n\")\n",
    "        temp_data.append(j)\n",
    "    file_length= len(temp_data)-1\n",
    "    temp_count= counter\n",
    "    new_list_word= []\n",
    "    new_word=[]\n",
    "    for i in temp_data[temp_count]:\n",
    "        new_list_word.append(i)\n",
    "        new_list_word.sort()\n",
    "    for j in word:\n",
    "        new_word.append(j)\n",
    "        new_word.sort()\n",
    "    if new_word== new_list_word:\n",
    "        print(temp_data[temp_count])\n",
    "        counter+=1\n",
    "    else:\n",
    "        counter+=1\n",
    "    \n",
    "    if temp_count==file_length:\n",
    "        print(\"\")    \n",
    "        \n",
    "    else:\n",
    "        anagrams(file,word)\n",
    "    content.close()\n",
    "    \n",
    "        \n",
    "    \n",
    "    \n",
    "    \n",
    "    \n",
    "    "
   ]
  },
  {
   "cell_type": "code",
   "execution_count": 15,
   "id": "33521e2a",
   "metadata": {},
   "outputs": [
    {
     "name": "stdout",
     "output_type": "stream",
     "text": [
      "cater\n",
      "crate\n",
      "react\n",
      "\n"
     ]
    }
   ],
   "source": [
    "anagrams(\"words.txt\",\"trace\")"
   ]
  },
  {
   "cell_type": "code",
   "execution_count": null,
   "id": "18a81e97",
   "metadata": {},
   "outputs": [],
   "source": []
  }
 ],
 "metadata": {
  "kernelspec": {
   "display_name": "Python 3 (ipykernel)",
   "language": "python",
   "name": "python3"
  },
  "language_info": {
   "codemirror_mode": {
    "name": "ipython",
    "version": 3
   },
   "file_extension": ".py",
   "mimetype": "text/x-python",
   "name": "python",
   "nbconvert_exporter": "python",
   "pygments_lexer": "ipython3",
   "version": "3.9.12"
  }
 },
 "nbformat": 4,
 "nbformat_minor": 5
}
